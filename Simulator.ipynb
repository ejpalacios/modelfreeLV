{
 "cells": [
  {
   "cell_type": "code",
   "execution_count": null,
   "metadata": {
    "colab": {
     "base_uri": "https://localhost:8080/"
    },
    "executionInfo": {
     "elapsed": 43454,
     "status": "ok",
     "timestamp": 1707497346352,
     "user": {
      "displayName": "Anthony Gerard O'Malley",
      "userId": "08354629277054091219"
     },
     "user_tz": 0
    },
    "id": "4_6lXp44kaVT",
    "outputId": "289ee19e-7909-41d2-8a07-916eeee4ed83"
   },
   "outputs": [],
   "source": [
    "from pathlib import Path\n",
    "\n",
    "import numpy as np\n",
    "import pandas as pd\n",
    "import random\n",
    "import matplotlib.pyplot as plt\n",
    "import math\n",
    "\n",
    "!pip install dss_python\n",
    "import dss\n",
    "\n",
    "import time\n",
    "\n",
    "import seaborn as sns\n",
    "sns.set_style('whitegrid')\n",
    "plt.rcParams.update({\n",
    "    'font.size': 8,\n",
    "    'font.family': 'serif',\n",
    "    'font.serif': ['Times New Roman'],\n",
    "})\n"
   ]
  },
  {
   "cell_type": "code",
   "execution_count": null,
   "metadata": {},
   "outputs": [],
   "source": [
    "base_path = Path.cwd()\n",
    "print(f\"{base_path=}\")\n",
    "lv_models_path = base_path.joinpath(\"NandoLV\").joinpath(\"LVNetworkModels\")\n",
    "print(f\"{lv_models_path=}\")"
   ]
  },
  {
   "cell_type": "code",
   "execution_count": null,
   "metadata": {
    "executionInfo": {
     "elapsed": 146351,
     "status": "ok",
     "timestamp": 1707497492698,
     "user": {
      "displayName": "Anthony Gerard O'Malley",
      "userId": "08354629277054091219"
     },
     "user_tz": 0
    },
    "id": "pV8r7J2-mnZe"
   },
   "outputs": [],
   "source": [
    "WinterLoads = []\n",
    "winter_load_path = base_path.joinpath(\"NandoLV\").joinpath(\"Winter_Load_CSVs\")\n",
    "for i in range(1,101,1):\n",
    "    with open(winter_load_path.joinpath(f\"Winter_Load_Profiles_{i}.csv\")) as f:\n",
    "        CustomerData = (f.read()).split(\"\\n\")[0:-1] #empty string at the last index of each list\n",
    "        WinterLoads.append([float(x) for x in CustomerData])\n",
    "\n",
    "SummerLoads = []\n",
    "summer_load_path = base_path.joinpath(\"NandoLV\").joinpath(\"Summer_Load_CSVs\")\n",
    "for i in range(1,101,1):\n",
    "    with open(summer_load_path.joinpath(f\"Customer_{i}.csv\")) as f:\n",
    "        CustomerData = (f.read()).split(\"\\n\")[0:-1]\n",
    "        SummerLoads.append([float(x) for x in CustomerData])\n",
    "\n",
    "# Read PV data\n",
    "PVLoads = []\n",
    "summer_pv_path = base_path.joinpath(\"NandoLV\").joinpath(\"Summer_PV_CSVs\")\n",
    "for i in range(1,101,1):\n",
    "    with open(summer_pv_path.joinpath(f\"Summer_PV_Profiles_{i}.csv\")) as f:\n",
    "        CustomerData = (f.read()).split(\"\\n\")[0:-1]\n",
    "        PVLoads.append([float(x) for x in CustomerData])\n",
    "\n",
    "EVLoads = []\n",
    "winter_ev_path = base_path.joinpath(\"NandoLV\").joinpath(\"Winter_EV_CSVs\")\n",
    "for i in range(1,101,1):\n",
    "    with open(winter_ev_path.joinpath(f\"Winter_EV_Profiles_{i}.csv\")) as f:\n",
    "        CustomerData = (f.read()).split(\"\\n\")[0:-1]\n",
    "        EVLoads.append([2*float(x) for x in CustomerData])\n"
   ]
  },
  {
   "cell_type": "code",
   "execution_count": null,
   "metadata": {},
   "outputs": [],
   "source": [
    "fig, ax = plt.subplots(1,3, figsize = (6.3,3))\n",
    "ax[0].set_title(\"Acive Power Load\")\n",
    "ax[1].set_title(\"PV Generation\")\n",
    "ax[2].set_title(\"EV Load\")\n",
    "\n",
    "\n",
    "\n",
    "ax[0].set_ylabel(\"Load [kW]\")\n",
    "ax[1].set_ylabel(\"Generation [kW]\")\n",
    "ax[2].set_ylabel(\"Load [kW]\")\n",
    "\n",
    "sub_labels = ['(a)', '(b)', '(c)']\n",
    "for i, label in enumerate(sub_labels):\n",
    "    ax[i].set_xlabel(\"Sample [5 mins]\")\n",
    "    ax[i].text(0.95, -0.16, label, transform=ax[i].transAxes, horizontalalignment='right', verticalalignment='bottom')\n",
    "\n",
    "\n",
    "for i in range(1):\n",
    "    sns.lineplot(data = WinterLoads[i], ax = ax[0])\n",
    "    sns.lineplot(data = PVLoads[i], ax = ax[1])\n",
    "    sns.lineplot(data = EVLoads[i], ax = ax[2])\n",
    "plt.tight_layout()\n",
    "plt.savefig(base_path.joinpath(\"Images\").joinpath(\"example_load.svg\"))"
   ]
  },
  {
   "cell_type": "markdown",
   "metadata": {
    "id": "mMAEjqFmncTt"
   },
   "source": [
    "# Settings"
   ]
  },
  {
   "cell_type": "code",
   "execution_count": null,
   "metadata": {
    "executionInfo": {
     "elapsed": 10,
     "status": "ok",
     "timestamp": 1707497492699,
     "user": {
      "displayName": "Anthony Gerard O'Malley",
      "userId": "08354629277054091219"
     },
     "user_tz": 0
    },
    "id": "ANIbUdfumdjW"
   },
   "outputs": [],
   "source": [
    "LoadProfile = WinterLoads\n",
    "\n",
    "# Select simulation length in days\n",
    "SIM_LENGTH = 10\n",
    "\n",
    "# LCT penetration percentages\n",
    "PV_Penetration = 100\n",
    "EV_Penetration = 100\n",
    "\n",
    "# If True write results to Drive\n",
    "WriteToDrive = True\n",
    "\n",
    "\n",
    "# Furthest node in order of net, feed\n",
    "Nodes_Longest = [53, 31, 38, 67, 175, 137, 110, 113, 23, 93, 58, 97, 35, 19, 38, 24, 16, 17, 83, 20, 22, 4, 18, 155, 30, 36, 15, 23, 23, 116, 42, 71, 56, 50, 186, 61, 12, 20, 41, 297, 85, 3, 20, 20, 66, 22, 14, 5, 14, 6, 11, 5, 15, 3, 17, 61, 86, 156, 67, 89, 46, 16, 2, 173, 64, 1, 60, 43, 1, 1, 77, 96, 97, 138, 22, 65, 53, 39, 73, 67, 58, 180, 8, 76, 106, 99, 210, 107, 54, 22, 41, 34, 28, 19, 28, 20, 44, 49, 107, 61, 53, 47, 1, 26, 57, 19, 1, 21, 21, 60, 18, 27, 26, 13, 45, 26, 26, 37, 110, 39, 1, 88, 43, 56, 79, 11, 18, 12]\n"
   ]
  },
  {
   "cell_type": "markdown",
   "metadata": {
    "id": "t-nnakbRngIt"
   },
   "source": [
    "# Init OpenDSS"
   ]
  },
  {
   "cell_type": "code",
   "execution_count": null,
   "metadata": {
    "executionInfo": {
     "elapsed": 9,
     "status": "ok",
     "timestamp": 1707497492699,
     "user": {
      "displayName": "Anthony Gerard O'Malley",
      "userId": "08354629277054091219"
     },
     "user_tz": 0
    },
    "id": "skSV-EaMnijn"
   },
   "outputs": [],
   "source": [
    "dss_engine = dss.DSS\n",
    "DSSText = dss_engine.Text\n",
    "DSSCircuit = dss_engine.ActiveCircuit\n",
    "DSSSolution = dss_engine.ActiveCircuit.Solution\n",
    "ControlQueue = dss_engine.ActiveCircuit.CtrlQueue"
   ]
  },
  {
   "cell_type": "markdown",
   "metadata": {
    "id": "x56U44n-oGnt"
   },
   "source": [
    "# Function Definitions"
   ]
  },
  {
   "cell_type": "code",
   "execution_count": null,
   "metadata": {
    "executionInfo": {
     "elapsed": 9,
     "status": "ok",
     "timestamp": 1707497492700,
     "user": {
      "displayName": "Anthony Gerard O'Malley",
      "userId": "08354629277054091219"
     },
     "user_tz": 0
    },
    "id": "xVipPfZ7n7_w"
   },
   "outputs": [],
   "source": [
    "def create_load_data(num_cust, num_days, data):\n",
    "    customer_p, customer_q = [], []\n",
    "    for _ in range(num_cust):\n",
    "        cust_i_p,cust_i_q = [], []\n",
    "\n",
    "        for _ in range(num_days):\n",
    "            rand_int = random.randint(0,len(data)-1)\n",
    "            cust_i_p.extend(data[rand_int])\n",
    "\n",
    "            q = [i_load * math.tan(math.acos(random.uniform(0.9, 0.98))) for i_load in data[rand_int]]\n",
    "            cust_i_q.extend(q)\n",
    "\n",
    "        customer_p.append(cust_i_p)\n",
    "        customer_q.append(cust_i_q)\n",
    "\n",
    "    return customer_p, customer_q\n",
    "\n",
    "\n",
    "def load_profile_allocation(New, icust, cust, iday, data_p, data_q, num_days):\n",
    "    load_len = (len(data_p[0]))//num_days\n",
    "    Zero_profile = [0]*load_len\n",
    "    if New==1:\n",
    "        DSSCircuit.LoadShapes.New(f\"customer_profile_{icust}\")\n",
    "        DSSCircuit.LoadShapes.Npts = load_len\n",
    "        DSSCircuit.LoadShapes.MinInterval = 5\n",
    "        DSSCircuit.LoadShapes.UseActual = 1\n",
    "        DSSCircuit.LoadShapes.Pmult = Zero_profile\n",
    "        DSSCircuit.LoadShapes.Qmult = Zero_profile\n",
    "        DSSCircuit.SetActiveElement(f\"load.{cust}\")\n",
    "        DSSCircuit.ActiveElement.Properties(\"daily\").Val = f\"customer_profile_{icust}\"\n",
    "    else:\n",
    "        #sets qmult and pmult to data[cust][day]\n",
    "        DSSCircuit.LoadShapes.Name = f'customer_profile_{icust}'\n",
    "        DSSCircuit.LoadShapes.Pmult = data_p[icust][iday*load_len: (iday+1)*load_len]\n",
    "        DSSCircuit.LoadShapes.Qmult = data_q[icust][iday*load_len: (iday+1)*load_len]\n",
    "        DSSCircuit.SetActiveElement(f\"load.{cust}\")\n",
    "        DSSCircuit.ActiveElement.Properties('daily').Val = f'customer_profile_{icust}'\n",
    "\n",
    "\n",
    "def Initiate_variable(Num_Cust):\n",
    "    cols = len(LoadProfile[0])\n",
    "    rows = Num_Cust\n",
    "    kW_monitors = np.zeros((rows,cols))\n",
    "    kvar_monitors = np.zeros((rows,cols))\n",
    "    voltages_monitors = np.zeros((rows,cols))\n",
    "    df_kw = pd.DataFrame()\n",
    "    df_kvar = pd.DataFrame()\n",
    "    df_volt = pd.DataFrame()\n",
    "    load_profiles_all = []\n",
    "    pv_profiles_all = []\n",
    "    ev_profiles_all = []\n",
    "    random_profiles_all = []\n",
    "    rand_cust_PV = []\n",
    "    rand_cust_EV = []\n",
    "    reactive_profiles_all = []\n",
    "    return  (kW_monitors, kvar_monitors, voltages_monitors, df_kw, df_kvar,\n",
    "             df_volt, load_profiles_all, ev_profiles_all,pv_profiles_all, random_profiles_all, rand_cust_PV,rand_cust_EV,reactive_profiles_all)\n",
    "\n",
    "\n",
    "def Monitors_data():\n",
    "    for icust, cust in enumerate(Loadname):\n",
    "            DSSCircuit.SetActiveElement('load.%s' %(cust))\n",
    "            kW_monitors[icust][itime] = DSSCircuit.ActiveElement.Powers[0]\n",
    "            kvar_monitors[icust][itime]= DSSCircuit.ActiveElement.Powers[1]\n",
    "            bus_name = DSSCircuit.ActiveElement.Properties('bus1').Val\n",
    "            DSSCircuit.SetActiveBus(bus_name)\n",
    "            voltages_monitors[icust][itime] = DSSCircuit.ActiveBus.puVmagAngle[0]\n"
   ]
  },
  {
   "cell_type": "code",
   "execution_count": null,
   "metadata": {
    "executionInfo": {
     "elapsed": 8,
     "status": "ok",
     "timestamp": 1707497492700,
     "user": {
      "displayName": "Anthony Gerard O'Malley",
      "userId": "08354629277054091219"
     },
     "user_tz": 0
    },
    "id": "pkmmal1Pj4G-"
   },
   "outputs": [],
   "source": [
    "def PV_allocation(loads, PV_custs, data_PV, num_days):\n",
    "    for customer in PV_custs:\n",
    "        cust_pv_daily = []\n",
    "        for _ in range(num_days):\n",
    "            cust_pv_daily.extend(random.choice(data_PV))\n",
    "        loads[customer] = [x - y for x,y in zip(loads[customer], cust_pv_daily)]\n",
    "    return loads\n",
    "\n",
    "def EV_allocation(loads, EV_custs, data_EV, num_days):\n",
    "    for customer in EV_custs:\n",
    "        cust_ev_daily = []\n",
    "        for _ in range(num_days):\n",
    "            cust_ev_daily.extend(random.choice(data_EV))\n",
    "        loads[customer] = [x + y for x,y in zip(loads[customer], cust_ev_daily)]\n",
    "    return loads\n"
   ]
  },
  {
   "cell_type": "markdown",
   "metadata": {
    "id": "LD2btQOSoUSk"
   },
   "source": [
    "# Simulation"
   ]
  },
  {
   "cell_type": "code",
   "execution_count": null,
   "metadata": {
    "colab": {
     "base_uri": "https://localhost:8080/"
    },
    "executionInfo": {
     "elapsed": 27764,
     "status": "ok",
     "timestamp": 1707497520456,
     "user": {
      "displayName": "Anthony Gerard O'Malley",
      "userId": "08354629277054091219"
     },
     "user_tz": 0
    },
    "id": "OEfm8XIDoTjZ",
    "outputId": "2e4c7654-6657-4b49-e3fd-b0d5c47b1506"
   },
   "outputs": [],
   "source": [
    "StartDay = 0\n",
    "start_time = time.time()\n",
    "count = 0\n",
    "for Network_Number in range(1,26+1):\n",
    "    Feeder_Number = 0\n",
    "    while True:\n",
    "        Feeder_Number += 1\n",
    "\n",
    "       \n",
    "        DSSText.Command = 'Clear'\n",
    "        DSSText.Command = 'Set DefaultBaseFrequency=50'\n",
    "        DSSText.Command = 'New circuit.LVNet1circuit basekv=22.0 pu=1.00 angle=0 frequency=50 phases=3'\n",
    "        try:\n",
    "            feeder_path = lv_models_path.joinpath(f\"Network_{Network_Number}\").joinpath(f\"Feeder_{Feeder_Number}\").joinpath(\"Master.txt\")\n",
    "            DSSText.Command = f'Compile {feeder_path.as_posix()}'\n",
    "        except Exception as e:\n",
    "            print(e)\n",
    "            break\n",
    "        count += 1\n",
    "        print(f\"Network {Network_Number}, Feeder {Feeder_Number}, Node of Intrest {Nodes_Longest[count-1]}\")\n",
    "        \n",
    "        DSSText.Command = 'Set VoltageBases = [22.0, 0.400]'\n",
    "        DSSText.Command = 'calcvoltagebases'\n",
    "\n",
    "        Loadname = DSSCircuit.Loads.AllNames\n",
    "\n",
    "        customer_p, customer_q = create_load_data(len(Loadname), SIM_LENGTH, LoadProfile)\n",
    "\n",
    "\n",
    "        # Init all load profile allocations\n",
    "        for icust, cust in enumerate(Loadname):\n",
    "            load_profile_allocation(1, icust, cust, 0, customer_p, customer_q, num_days=SIM_LENGTH)\n",
    "\n",
    "\n",
    "        # choose set of customers with EV and PV\n",
    "        rand_cust_EV = random.sample(range(len(Loadname)), round(len(Loadname)*(EV_Penetration/100)))\n",
    "        print(\"EV:\", rand_cust_EV)\n",
    "        rand_cust_PV = random.sample(range(len(Loadname)), round(len(Loadname)*(PV_Penetration/100)))\n",
    "        print(\"PV:\", rand_cust_PV)\n",
    "        #allocate PV and EV loads\n",
    "        customer_p = PV_allocation(customer_p, rand_cust_PV, PVLoads, SIM_LENGTH)\n",
    "        customer_p = EV_allocation(customer_p, rand_cust_EV, EVLoads, SIM_LENGTH)\n",
    "        Voltages_Daily, kW_Daily, kvar_Daily = [], [], []\n",
    "\n",
    "        for iday in range(StartDay,StartDay+SIM_LENGTH):\n",
    "            print(\"This is day: \",iday + 1)\n",
    "\n",
    "            (kW_monitors, kvar_monitors, voltages_monitors, df_kw, df_kvar, df_volt,\n",
    "            load_profiles_all, ev_profiles_all, pv_profiles_all, random_profiles_all, rand_cust_PV,rand_cust_EV,reactive_profiles_all) = Initiate_variable(len(Loadname))\n",
    "\n",
    "            for icust, cust in enumerate(Loadname):\n",
    "                load_profile_allocation(0, icust, cust, iday, customer_p, customer_q, num_days=SIM_LENGTH)\n",
    "\n",
    "\n",
    "            DSSText.Command = 'Reset'\n",
    "            DSSText.Command = 'Set Mode=daily  number=1 stepsize=5m'\n",
    "\n",
    "            for itime in range(len(LoadProfile[0])):\n",
    "                DSSSolution.Solve()\n",
    "                Monitors_data()\n",
    "\n",
    "            Voltages_Daily.append(voltages_monitors)\n",
    "            kW_Daily.append(kW_monitors)\n",
    "            kvar_Daily.append(kvar_monitors)\n",
    "\n",
    "            if DSSSolution.Converged:\n",
    "                print('The Solution Converged Successfully')\n",
    "            else:\n",
    "                print(\"The Solution Did Not Converge\")\n",
    "\n",
    "        #ignore Q\n",
    "        #Dataset = np.concatenate((customer_p,customer_q)).T\n",
    "        Dataset = np.array(customer_p).T\n",
    "\n",
    "        Targets = []\n",
    "        for i in range(SIM_LENGTH):\n",
    "            for j in range(len(Voltages_Daily[0][0])):\n",
    "                Targets.append(Voltages_Daily[i][Nodes_Longest[count-1]-1][j])\n",
    "\n",
    "        if WriteToDrive:\n",
    "            output_path = base_path.joinpath(f\"Simulation_Results_{PV_Penetration}\")\n",
    "            with open(output_path.joinpath(f\"Loads_Network_{Network_Number}_Feeder_{Feeder_Number}.npy\"), 'wb') as f:\n",
    "                np.save(f, Dataset)\n",
    "\n",
    "            with open(output_path.joinpath(f\"Targets_Network_{Network_Number}_Feeder_{Feeder_Number}.npy\"), \"wb\") as f:\n",
    "                np.save(f, Targets)\n",
    "\n",
    "\n",
    "\n",
    "end_time = time.time()\n",
    "\n",
    "elapsed_time = end_time - start_time\n",
    "print(\"Elapsed Time:\", elapsed_time)"
   ]
  },
  {
   "cell_type": "code",
   "execution_count": null,
   "metadata": {
    "colab": {
     "base_uri": "https://localhost:8080/"
    },
    "executionInfo": {
     "elapsed": 6,
     "status": "ok",
     "timestamp": 1707497520457,
     "user": {
      "displayName": "Anthony Gerard O'Malley",
      "userId": "08354629277054091219"
     },
     "user_tz": 0
    },
    "id": "VPAFWSVgdHSl",
    "outputId": "ae63b0b7-96b7-4d26-dae4-6725b4260129"
   },
   "outputs": [],
   "source": [
    "len(np.array(customer_p).T)"
   ]
  },
  {
   "cell_type": "code",
   "execution_count": null,
   "metadata": {
    "colab": {
     "base_uri": "https://localhost:8080/",
     "height": 568
    },
    "executionInfo": {
     "elapsed": 1254,
     "status": "ok",
     "timestamp": 1707497521707,
     "user": {
      "displayName": "Anthony Gerard O'Malley",
      "userId": "08354629277054091219"
     },
     "user_tz": 0
    },
    "id": "QrhncDgQQhpr",
    "outputId": "a646d3ad-6aa0-4e81-9620-7f68aa9ff675"
   },
   "outputs": [],
   "source": [
    "### Plotting Voltages###\n",
    "fig, axes = plt.subplots(1,1, figsize = (10,5))\n",
    "axes.set_xlim(0,300)\n",
    "plt.tight_layout()\n",
    "plt.xlabel(\"Samples\", fontsize = 15)\n",
    "plt.ylabel('Voltage (p.u.)', fontsize = 15)\n",
    "plt.title(f'Voltage Profile for Customer 1 and {55} at {EV_Penetration}% EV and {PV_Penetration}% PV penetration', fontsize = 15)\n",
    "\n",
    "sns.lineplot(data = 230*Voltages_Daily[0][0], label = \"1\")\n",
    "sns.lineplot(data = 230*Voltages_Daily[0][-1], label = f\"{55}\")\n",
    "\n",
    "\n",
    "plt.legend(title = \"Customer\")"
   ]
  },
  {
   "cell_type": "code",
   "execution_count": null,
   "metadata": {},
   "outputs": [],
   "source": []
  }
 ],
 "metadata": {
  "colab": {
   "authorship_tag": "ABX9TyNAOaS4GnhT+nUgXsn+jqZZ",
   "provenance": []
  },
  "kernelspec": {
   "display_name": "Python 3 (ipykernel)",
   "language": "python",
   "name": "python3"
  },
  "language_info": {
   "codemirror_mode": {
    "name": "ipython",
    "version": 3
   },
   "file_extension": ".py",
   "mimetype": "text/x-python",
   "name": "python",
   "nbconvert_exporter": "python",
   "pygments_lexer": "ipython3",
   "version": "3.12.6"
  }
 },
 "nbformat": 4,
 "nbformat_minor": 4
}
