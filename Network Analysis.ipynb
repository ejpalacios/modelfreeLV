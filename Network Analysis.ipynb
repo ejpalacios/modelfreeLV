{
 "cells": [
  {
   "cell_type": "markdown",
   "metadata": {
    "id": "sTF28zgQmJjT"
   },
   "source": [
    "# Network Analysis\n",
    "This file plots the feeders and finds the furthest loads from the transformers"
   ]
  },
  {
   "cell_type": "code",
   "execution_count": null,
   "metadata": {
    "colab": {
     "base_uri": "https://localhost:8080/"
    },
    "executionInfo": {
     "elapsed": 10512,
     "status": "ok",
     "timestamp": 1706365068470,
     "user": {
      "displayName": "Anthony Gerard O'Malley",
      "userId": "08354629277054091219"
     },
     "user_tz": 0
    },
    "id": "dl0BXr6RmI0d",
    "outputId": "055b311d-1602-44bf-badb-dd65f27cf804"
   },
   "outputs": [],
   "source": [
    "from pathlib import Path\n",
    "\n",
    "!pip install networkx\n",
    "!pip install xlrd\n",
    "import networkx as nx\n",
    "import pandas as pd\n",
    "import matplotlib.pyplot as plt\n",
    "import matplotlib.cm as cm\n",
    "import matplotlib.patches as mpatches\n",
    "\n",
    "import numpy as np\n",
    "import seaborn as sns\n",
    "sns.set_style('whitegrid')\n"
   ]
  },
  {
   "cell_type": "code",
   "execution_count": null,
   "metadata": {},
   "outputs": [],
   "source": [
    "base_path = Path.cwd()\n",
    "print(f\"{base_path=}\")\n",
    "lv_models_path = base_path.joinpath(\"NandoLV\").joinpath(\"LVNetworkModels\")\n",
    "print(f\"{lv_models_path=}\")"
   ]
  },
  {
   "cell_type": "code",
   "execution_count": null,
   "metadata": {
    "executionInfo": {
     "elapsed": 287,
     "status": "ok",
     "timestamp": 1706364593808,
     "user": {
      "displayName": "Anthony Gerard O'Malley",
      "userId": "08354629277054091219"
     },
     "user_tz": 0
    },
    "id": "P27cSE7comid"
   },
   "outputs": [],
   "source": [
    "def construct_network(feeder_data):\n",
    "    # Create a directed graph using NetworkX\n",
    "    G = nx.Graph()\n",
    "\n",
    "    # Add edges to the graph based on the feeder data\n",
    "    for col, row in feeder_data.iterrows():\n",
    "        source_node = row['NodeA']\n",
    "        end_node = row['NodeB']\n",
    "        distance = row['D[m]']\n",
    "        phases = row['Phase']\n",
    "        load = row['Load']\n",
    "\n",
    "        G.add_edge(source_node, end_node, distance=distance, phases=phases, load=load)\n",
    "\n",
    "    return G\n",
    "\n",
    "def plot_network(network, feeder_data, ax):\n",
    "    # Get X and Y coordinates for each node\n",
    "    node_positions = {row['Node']: (row['X'], row['Y']) for _, row in xy_position.iterrows()}\n",
    "\n",
    "    # Create a colormap based on the number of phases\n",
    "    edge_colors = ['blue', 'green', 'red', 'black'] \n",
    "\n",
    "    # Map edge colors based on the phases\n",
    "    edge_color_mapping = {i: edge_colors[i - 1] for i in range(1,5)}\n",
    "\n",
    "    # Extract phase information for each edge\n",
    "    edge_phases = [network.edges[edge]['phases'] for edge in network.edges]\n",
    "    ## accounting for load 1 not having an entry\n",
    "    node_colors = [\"skyblue\"] + ['orange' if feeder_data.loc[node]['Load'] == 1 else 'none' for node in range(len(feeder_data))]\n",
    "    node_size = [5] + [1]*len(feeder_data)\n",
    "\n",
    "\n",
    "    # Plot the network using matplotlib with specified node and edge colors\n",
    "    nx.draw(network, ax = ax, pos=node_positions, with_labels=False, node_size=node_size, node_color=node_colors, font_size=8, edge_color=[edge_color_mapping[phase] for phase in edge_phases], width = 0.5)\n",
    "    \n",
    "    # Label nodes where loads are at NodeB\n",
    "    labeled_nodes = set()\n",
    "    overlapping_nodes = set()\n",
    "    seen_coordinates = set()\n",
    "\n",
    "    for node, (x, y) in node_positions.items():\n",
    "        load_data = feeder_data[feeder_data['NodeB'] == node]['Load']\n",
    "        if not load_data.empty and load_data.values[0] == 1:\n",
    "            labeled_nodes.add(node)\n",
    "            #plt.text(x, y, f\"{node:.0f}\", fontsize=8, ha='right', va='bottom')\n",
    "            if (x, y) in seen_coordinates:\n",
    "                overlapping_nodes.add(node)\n",
    "            else:\n",
    "                seen_coordinates.add((x, y))\n",
    "    \n",
    "    # Print the number of labeled nodes\n",
    "    num_labeled_nodes = len(labeled_nodes)\n",
    "    if num_labeled_nodes > 0:\n",
    "        print(f\"There are {num_labeled_nodes} labeled nodes with Load=1.\")\n",
    "        print(f\"Labeled nodes: {labeled_nodes}\")\n",
    "\n",
    "        # Print the number of overlapping labeled nodes\n",
    "        num_overlapping_nodes = len(overlapping_nodes)\n",
    "        if num_overlapping_nodes > 0:\n",
    "            print(f\"{num_overlapping_nodes} of them are overlapping.\")\n",
    "            print(f\"Overlapping nodes: {overlapping_nodes}\")\n",
    "        else:\n",
    "            print(\"There are no overlapping labeled nodes.\")\n",
    "    else:\n",
    "        print(\"There are no labeled nodes with Load=1.\")\n",
    "    # Create a custom legend\n",
    "    legend_patches = [mpatches.Patch(color=edge_colors[i], label=f'Phase {i+1}') for i in range(3)] + [mpatches.Patch(color=edge_colors[3], label=f'3 Phase')]\n",
    "    leg = ax.legend(handles=legend_patches, title='Phases', fontsize = 8)\n",
    "    leg.get_title().set_fontsize('8')"
   ]
  },
  {
   "cell_type": "code",
   "execution_count": null,
   "metadata": {},
   "outputs": [],
   "source": [
    "def OpenFile(Net,Feed):\n",
    "    try:\n",
    "        feeder_path = lv_models_path.joinpath(f\"Network_{Net}\").joinpath(f\"Feeder_{Feed}\")\n",
    "        with open(feeder_path.joinpath(\"Feeder_Data.xls\"), 'rb') as f:\n",
    "            feeder_data = pd.read_excel(f)\n",
    "        with open(feeder_path.joinpath(\"XY_Position.xls\"), 'rb') as f:\n",
    "            xy_position = pd.read_excel(f)\n",
    "        return True, feeder_data, xy_position\n",
    "    except:\n",
    "        return False, 0, 0"
   ]
  },
  {
   "cell_type": "code",
   "execution_count": null,
   "metadata": {},
   "outputs": [],
   "source": [
    "def count_overlapping_nodes(feeder_data, xy_position):\n",
    "    # Label nodes where loads are at NodeB\n",
    "    labeled_nodes = set()\n",
    "    overlapping_nodes = set()\n",
    "    seen_coordinates = set()\n",
    "    \n",
    "    node_positions = {row['Node']: (row['X'], row['Y']) for _, row in xy_position.iterrows()}\n",
    "\n",
    "    for node, (x, y) in node_positions.items():\n",
    "        load_data = feeder_data[feeder_data['NodeB'] == node]['Load']\n",
    "        if not load_data.empty and load_data.values[0] == 1:\n",
    "            labeled_nodes.add(node)\n",
    "            if (x, y) in seen_coordinates:\n",
    "                overlapping_nodes.add(node)\n",
    "            else:\n",
    "                seen_coordinates.add((x, y))\n",
    "\n",
    "    # Print the number of labeled nodes\n",
    "    num_labeled_nodes = len(labeled_nodes)\n",
    "    if num_labeled_nodes > 0:\n",
    "        print(f\"There are {num_labeled_nodes} labeled nodes with Load=1.\")\n",
    "        #print(f\"Labeled nodes: {labeled_nodes}\")\n",
    "\n",
    "        # Print the number of overlapping labeled nodes\n",
    "        num_overlapping_nodes = len(overlapping_nodes)\n",
    "        if num_overlapping_nodes > 0:\n",
    "            print(f\"{num_overlapping_nodes} of them are overlapping.\")\n",
    "            #print(f\"Overlapping nodes: {overlapping_nodes}\")\n",
    "        else:\n",
    "            print(\"There are no overlapping labeled nodes.\")\n",
    "    else:\n",
    "        print(\"There are no labeled nodes with Load=1.\")\n",
    "    return num_labeled_nodes, num_overlapping_nodes\n"
   ]
  },
  {
   "cell_type": "code",
   "execution_count": null,
   "metadata": {
    "colab": {
     "base_uri": "https://localhost:8080/",
     "height": 1000
    },
    "executionInfo": {
     "elapsed": 2594,
     "status": "ok",
     "timestamp": 1706365088744,
     "user": {
      "displayName": "Anthony Gerard O'Malley",
      "userId": "08354629277054091219"
     },
     "user_tz": 0
    },
    "id": "XQxVNlgamfPV",
    "outputId": "6c083355-cdf6-4708-c91a-e7caa536bbdb"
   },
   "outputs": [],
   "source": [
    "\n",
    "distances = []\n",
    "nodes = []\n",
    "feed_info = {}\n",
    "number_cust = []\n",
    "for i in range(1,27):\n",
    "    feed = 0\n",
    "    while True:\n",
    "        feed +=1\n",
    "        exception, feeder_data, xy_position = OpenFile(i, feed)\n",
    "        if not exception:\n",
    "            break\n",
    "        network = construct_network(feeder_data)\n",
    "        node_positions = {node: (row['X'], row['Y']) for node, row in xy_position.iterrows()}\n",
    "        \n",
    "        shortest_distances = {}\n",
    "        Load_Number = 1\n",
    "        # NODE B HAS LOAD\n",
    "        for load_node in feeder_data[feeder_data['Load'] == 1]['NodeB']:\n",
    "            shortest_distances[Load_Number] = nx.shortest_path_length(network, source=load_node, target=1, weight=\"distance\")\n",
    "            Load_Number +=1\n",
    "        \n",
    "\n",
    "        \n",
    "        \n",
    "        #print(f\"Network {i}, Feeder {feed}\")\n",
    "        number_cust.append(Load_Number)\n",
    "        #feed_info[f\"{i}, {feed}\"] = count_overlapping_nodes(feeder_data, xy_position)\n",
    "        \n",
    "         \n",
    "        max_pair = max(shortest_distances.items(), key=lambda x: x[1])\n",
    "        #print(f\"node {max_pair[0]} has length {max_pair[1]}m\")\n",
    "        distances.append(max_pair[1])\n",
    "        #nodes.append(max_pair[0])\n",
    "\n",
    "\n",
    "\n",
    "print(\"Number Customers:\", max(number_cust), min(number_cust))\n",
    "print(\"Max Line Lengths:\", max(distances),min(distances))"
   ]
  },
  {
   "cell_type": "code",
   "execution_count": null,
   "metadata": {},
   "outputs": [],
   "source": [
    "\"\"\"\n",
    "Load_Number = 1\n",
    "shortest_distances = {}\n",
    "for load_node in feeder_data[feeder_data['Load'] == 1]['NodeB']:\n",
    "    shortest_distances[Load_Number] = nx.shortest_path_length(network, source=load_node, target=1, weight=\"distance\")\n",
    "    Load_Number +=1\n",
    "print(\"the nodes in order of distance are; \", np.array(sorted(shortest_distances.items(), key=lambda x: x[1]))[:,0])\n",
    "#print(f\"furtest node from transformer has distance {max(shortest_distances)}\")\n",
    "max_pair = max(shortest_distances.items(), key=lambda x: x[1])\n",
    "print(f\"node {max_pair[0]} has length {max_pair[1]}m\")\n",
    "\"\"\""
   ]
  },
  {
   "cell_type": "code",
   "execution_count": null,
   "metadata": {},
   "outputs": [],
   "source": [
    "fig, ax = plt.subplots(1,2, figsize = (6.3, 3))\n",
    "\n",
    "_, feeder_data, xy_position =OpenFile(1,1)\n",
    "network = construct_network(feeder_data)\n",
    "plot_network(network, feeder_data, ax[0])\n",
    "\n",
    "_, feeder_data, xy_position =OpenFile(2,1)\n",
    "network = construct_network(feeder_data)\n",
    "plot_network(network, feeder_data, ax[1])\n",
    "plt.rcParams['font.family'] = 'Times New Roman'\n",
    "\n",
    "\n",
    "ax[0].set_title(\"Network 1 Feeder 1\", fontsize = 8)\n",
    "ax[1].set_title(\"Network 2 Feeder 1\", fontsize = 8)\n",
    "plt.tight_layout()\n",
    "plt.savefig(base_path.joinpath(\"Images\").joinpath(\"example_network.svg\"))"
   ]
  },
  {
   "cell_type": "code",
   "execution_count": null,
   "metadata": {
    "colab": {
     "base_uri": "https://localhost:8080/"
    },
    "executionInfo": {
     "elapsed": 8,
     "status": "ok",
     "timestamp": 1706361327764,
     "user": {
      "displayName": "Anthony Gerard O'Malley",
      "userId": "08354629277054091219"
     },
     "user_tz": 0
    },
    "id": "vK2W1UYseCNU",
    "outputId": "3632f53a-f527-4b43-86db-c547671b533f"
   },
   "outputs": [],
   "source": [
    "distances"
   ]
  },
  {
   "cell_type": "code",
   "execution_count": null,
   "metadata": {
    "colab": {
     "base_uri": "https://localhost:8080/"
    },
    "executionInfo": {
     "elapsed": 6,
     "status": "ok",
     "timestamp": 1706361327764,
     "user": {
      "displayName": "Anthony Gerard O'Malley",
      "userId": "08354629277054091219"
     },
     "user_tz": 0
    },
    "id": "aeDaaY4hizPf",
    "outputId": "df332765-7f77-4c21-b6e6-757f248d7c27"
   },
   "outputs": [],
   "source": [
    "len(nodes)"
   ]
  },
  {
   "cell_type": "code",
   "execution_count": null,
   "metadata": {
    "id": "FbDpVIYDizJu"
   },
   "outputs": [],
   "source": [
    "print(nodes)"
   ]
  },
  {
   "cell_type": "code",
   "execution_count": null,
   "metadata": {},
   "outputs": [],
   "source": []
  }
 ],
 "metadata": {
  "colab": {
   "authorship_tag": "ABX9TyPgiN7m7XZqyBfVv/pCEj0/",
   "provenance": []
  },
  "kernelspec": {
   "display_name": "Python 3 (ipykernel)",
   "language": "python",
   "name": "python3"
  },
  "language_info": {
   "codemirror_mode": {
    "name": "ipython",
    "version": 3
   },
   "file_extension": ".py",
   "mimetype": "text/x-python",
   "name": "python",
   "nbconvert_exporter": "python",
   "pygments_lexer": "ipython3",
   "version": "3.12.6"
  }
 },
 "nbformat": 4,
 "nbformat_minor": 4
}
