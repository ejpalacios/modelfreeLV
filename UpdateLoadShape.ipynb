{
 "cells": [
  {
   "cell_type": "markdown",
   "id": "c508b4cf",
   "metadata": {},
   "source": [
    "Replaces path OpenDSS looks for load shapes when first running, it gets replaced with random allocation. The file linked is never used but is needed for OpenDSS to run."
   ]
  },
  {
   "cell_type": "code",
   "execution_count": null,
   "id": "62130ce5-f9ad-4b7f-90f8-6c84461e9b3f",
   "metadata": {},
   "outputs": [],
   "source": [
    "from pathlib import Path"
   ]
  },
  {
   "cell_type": "code",
   "execution_count": null,
   "id": "61ef01a9-1cd3-4b3a-b5c8-0c65410217a9",
   "metadata": {},
   "outputs": [],
   "source": [
    "base_path = Path.cwd()\n",
    "print(f\"{base_path=}\")\n",
    "lv_models_path = base_path.joinpath(\"NandoLV\").joinpath(\"LVNetworkModels\")\n",
    "print(f\"{lv_models_path=}\")"
   ]
  },
  {
   "cell_type": "code",
   "execution_count": null,
   "id": "6a742ed2",
   "metadata": {
    "executionInfo": {
     "elapsed": 7,
     "status": "ok",
     "timestamp": 1705591689747,
     "user": {
      "displayName": "Anthony Gerard O'Malley",
      "userId": "08354629277054091219"
     },
     "user_tz": 0
    },
    "id": "6a742ed2"
   },
   "outputs": [],
   "source": [
    "def OpenFile(Net,Feed):\n",
    "    try:\n",
    "        feeder_path = lv_models_path.joinpath(f\"Network_{Net}\").joinpath(f\"Feeder_{Feed}\")\n",
    "        f = open(feeder_path.joinpath(\"LoadShapes.txt\"), 'r')\n",
    "        return True, f\n",
    "    except Exception as e:\n",
    "        return False, 0"
   ]
  },
  {
   "cell_type": "code",
   "execution_count": null,
   "id": "aa543c6c",
   "metadata": {
    "colab": {
     "base_uri": "https://localhost:8080/"
    },
    "executionInfo": {
     "elapsed": 2111,
     "status": "ok",
     "timestamp": 1705592790572,
     "user": {
      "displayName": "Anthony Gerard O'Malley",
      "userId": "08354629277054091219"
     },
     "user_tz": 0
    },
    "id": "aa543c6c",
    "outputId": "dc12e454-c746-43c4-f6d0-02be7b58a94f"
   },
   "outputs": [],
   "source": [
    "# Update loadShapes.txt file\n",
    "\n",
    "Networks = range(1,27)\n",
    "\n",
    "for Net in Networks:\n",
    "    Feed = 0\n",
    "    while True:\n",
    "        Feed += 1\n",
    "        print(f\"{Net=}, {Feed=}\")\n",
    "        # exception on opening\n",
    "        Excepted, f = OpenFile(Net,Feed)\n",
    "         \n",
    "        if not Excepted:\n",
    "            break\n",
    "\n",
    "        T = f.read()\n",
    "        #replace address with load file location\n",
    "        lines = len(T.split(\"\\n\"))\n",
    "        Ans = []\n",
    "        for i in range(1,lines+1):\n",
    "            file_path = base_path.joinpath(\"NandoLV\").joinpath(\"Summer_Load_CSVs\").joinpath(\"Customer_1.csv\")\n",
    "            Ans.append(f\"New Loadshape.Shape_{i} npts=288 interval=0.0833 mult=(file={file_path.as_posix()}) useactual=false\")\n",
    "\n",
    "        X = \"\\n\".join(Ans)\n",
    "        f.close()\n",
    "\n",
    "        with open(lv_models_path.joinpath(f\"Network_{Net}\").joinpath(f\"Feeder_{Feed}\").joinpath(\"LoadShapes.txt\"), \"w\") as file:\n",
    "            file.write(X)\n"
   ]
  },
  {
   "cell_type": "code",
   "execution_count": null,
   "id": "fe968e8d-45ca-4054-a3a5-355a6a0fb879",
   "metadata": {},
   "outputs": [],
   "source": []
  }
 ],
 "metadata": {
  "colab": {
   "provenance": []
  },
  "kernelspec": {
   "display_name": "Python 3 (ipykernel)",
   "language": "python",
   "name": "python3"
  },
  "language_info": {
   "codemirror_mode": {
    "name": "ipython",
    "version": 3
   },
   "file_extension": ".py",
   "mimetype": "text/x-python",
   "name": "python",
   "nbconvert_exporter": "python",
   "pygments_lexer": "ipython3",
   "version": "3.12.6"
  }
 },
 "nbformat": 4,
 "nbformat_minor": 5
}
